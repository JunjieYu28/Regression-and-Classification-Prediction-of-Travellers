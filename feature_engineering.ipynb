{
 "cells": [
  {
   "cell_type": "code",
   "execution_count": 1,
   "id": "5e44ab06",
   "metadata": {},
   "outputs": [],
   "source": [
    "import numpy as np\n",
    "from sklearn.decomposition import PCA\n",
    "from sklearn.feature_selection import SelectKBest, f_regression, f_classif\n",
    "from sklearn.discriminant_analysis import LinearDiscriminantAnalysis\n",
    "from scipy.stats import zscore\n",
    "import pandas as pd\n",
    "import os"
   ]
  },
  {
   "cell_type": "code",
   "execution_count": 2,
   "id": "9817f58f",
   "metadata": {},
   "outputs": [],
   "source": [
    "# 1. 加载滚动数据\n",
    "data = np.load('processed_data/processed_data_rolling.npz')\n",
    "\n",
    "# 回归任务数据\n",
    "X_reg_scaled = data['X_reg_scaled']\n",
    "y_reg = data['y_reg']\n",
    "\n",
    "# 分类任务数据\n",
    "X_cls_scaled = data['X_cls_scaled']\n",
    "y_cls = data['y_cls']\n",
    "\n",
    "# 创建保存目录\n",
    "os.makedirs('features_rolling', exist_ok=True)\n"
   ]
  },
  {
   "cell_type": "code",
   "execution_count": 3,
   "id": "16a8ec99",
   "metadata": {},
   "outputs": [],
   "source": [
    "# 2. PCA（对回归数据）\n",
    "pca = PCA(n_components=20)\n",
    "X_pca = pca.fit_transform(X_reg_scaled)"
   ]
  },
  {
   "cell_type": "code",
   "execution_count": 4,
   "id": "04f123da",
   "metadata": {},
   "outputs": [],
   "source": [
    "# 3-1. Select(10)Best for regression\n",
    "selector_reg = SelectKBest(score_func=f_regression, k=10)\n",
    "X_selected_reg = selector_reg.fit_transform(X_reg_scaled, y_reg)\n",
    "\n",
    "# 4-1. Select(10)Best for classification\n",
    "selector_cls = SelectKBest(score_func=f_classif, k=10)\n",
    "X_selected_cls = selector_cls.fit_transform(X_cls_scaled, y_cls)\n"
   ]
  },
  {
   "cell_type": "code",
   "execution_count": 5,
   "id": "5dc4f71e",
   "metadata": {},
   "outputs": [],
   "source": [
    "# 3-2. Select(50)Best for regression\n",
    "selector_reg = SelectKBest(score_func=f_regression, k=50)\n",
    "X_selected_reg_50 = selector_reg.fit_transform(X_reg_scaled, y_reg)\n",
    "\n",
    "# 4-2. Select(50)Best for classification\n",
    "selector_cls = SelectKBest(score_func=f_classif, k=50)\n",
    "X_selected_cls_50 = selector_cls.fit_transform(X_cls_scaled, y_cls)"
   ]
  },
  {
   "cell_type": "code",
   "execution_count": 6,
   "id": "2f428a73",
   "metadata": {},
   "outputs": [
    {
     "name": "stdout",
     "output_type": "stream",
     "text": [
      "回归数据: (72054, 10)\n",
      "分类数据: (72370, 10)\n",
      "回归数据: (72054, 50)\n",
      "分类数据: (72370, 50)\n",
      "回归数据: (72054, 20)\n"
     ]
    }
   ],
   "source": [
    "print(\"回归数据:\", X_selected_reg.shape)\n",
    "print(\"分类数据:\", X_selected_cls.shape)\n",
    "print(\"回归数据:\", X_selected_reg_50.shape)\n",
    "print(\"分类数据:\", X_selected_cls_50.shape)\n",
    "print(\"回归数据:\", X_pca.shape)"
   ]
  },
  {
   "cell_type": "markdown",
   "id": "6a1fc589",
   "metadata": {},
   "source": [
    "**清洗10 Best Reg**"
   ]
  },
  {
   "cell_type": "code",
   "execution_count": 21,
   "id": "44a1bb5e",
   "metadata": {},
   "outputs": [],
   "source": [
    "# 确保 y_reg 是 Series（可选：只需在早期保持即可）\n",
    "y_reg_series = pd.Series(y_reg, name='Number of nights in CITY')\n",
    "\n",
    "# 合并成 DataFrame\n",
    "df_reg = pd.concat([pd.DataFrame(X_selected_reg), y_reg_series], axis=1)\n",
    "\n",
    "# 计算 Z-score\n",
    "z_scores_reg = np.abs(zscore(df_reg))\n",
    "threshold = 3.0\n",
    "df_reg_cleaned = df_reg[(z_scores_reg < threshold).all(axis=1)]\n",
    "\n",
    "# 拆分回 X 和 y\n",
    "X_reg_cleaned = df_reg_cleaned.drop(columns='Number of nights in CITY').values\n",
    "y_reg_cleaned = df_reg_cleaned['Number of nights in CITY'].values"
   ]
  },
  {
   "cell_type": "markdown",
   "id": "32ab1451",
   "metadata": {},
   "source": [
    "**清洗10 Best Cls**"
   ]
  },
  {
   "cell_type": "code",
   "execution_count": 22,
   "id": "7e27dd2f",
   "metadata": {},
   "outputs": [],
   "source": [
    "# 确保 y_reg 是 Series（可选：只需在早期保持即可）\n",
    "y_cls_series = pd.Series(y_cls, name='Purpose of visit to CITY')\n",
    "\n",
    "# 合并特征和标签\n",
    "df_cls = pd.concat([pd.DataFrame(X_selected_cls), y_cls_series], axis=1)\n",
    "\n",
    "# Z-score 清洗（仅对特征列）\n",
    "z_scores_cls = np.abs(zscore(df_cls.iloc[:, :-1]))\n",
    "threshold = 3.0\n",
    "df_cls_cleaned = df_cls[(z_scores_cls < threshold).all(axis=1)]\n",
    "\n",
    "# 拆分回清洗后的 X 和 y\n",
    "X_cls_cleaned = df_cls_cleaned.iloc[:, :-1].values\n",
    "y_cls_cleaned = df_cls_cleaned['Purpose of visit to CITY'].values"
   ]
  },
  {
   "cell_type": "markdown",
   "id": "a11a555e",
   "metadata": {},
   "source": [
    "**清洗50 Best Reg**"
   ]
  },
  {
   "cell_type": "code",
   "execution_count": 23,
   "id": "fff097e2",
   "metadata": {},
   "outputs": [],
   "source": [
    "# 确保 y 是 Series\n",
    "y_reg_series = pd.Series(y_reg, name='target')\n",
    "\n",
    "# 合并 X 和 y\n",
    "df_reg_50 = pd.concat([pd.DataFrame(X_selected_reg_50), y_reg_series], axis=1)\n",
    "\n",
    "# 计算 Z-score 并清洗\n",
    "z_scores_reg_50 = np.abs(zscore(df_reg_50))\n",
    "threshold = 3.0  # 可调节\n",
    "df_reg_cleaned_50 = df_reg_50[(z_scores_reg_50 < threshold).all(axis=1)]\n",
    "\n",
    "# 拆分清洗后的数据\n",
    "X_reg_cleaned_50 = df_reg_cleaned_50.drop(columns='target').values\n",
    "y_reg_cleaned_50 = df_reg_cleaned_50['target'].values\n"
   ]
  },
  {
   "cell_type": "markdown",
   "id": "3e155bbf",
   "metadata": {},
   "source": [
    "**清洗50 Best Cls**"
   ]
  },
  {
   "cell_type": "code",
   "execution_count": 24,
   "id": "495efbf8",
   "metadata": {},
   "outputs": [],
   "source": [
    "# 确保 y 是 Series\n",
    "y_cls_series = pd.Series(y_cls, name='target')\n",
    "\n",
    "# 合并 X 和 y\n",
    "df_cls_50 = pd.concat([pd.DataFrame(X_selected_cls_50), y_cls_series], axis=1)\n",
    "\n",
    "# 仅对特征部分计算 Z-score\n",
    "z_scores_cls_50 = np.abs(zscore(df_cls_50.iloc[:, :-1]))\n",
    "threshold = 3.0\n",
    "df_cls_cleaned_50 = df_cls_50[(z_scores_cls_50 < threshold).all(axis=1)]\n",
    "\n",
    "# 拆分清洗后的数据\n",
    "X_cls_cleaned_50 = df_cls_cleaned_50.iloc[:, :-1].values\n",
    "y_cls_cleaned_50 = df_cls_cleaned_50['target'].values"
   ]
  },
  {
   "cell_type": "code",
   "execution_count": 25,
   "id": "f9689757",
   "metadata": {},
   "outputs": [
    {
     "name": "stdout",
     "output_type": "stream",
     "text": [
      "回归数据: (58938, 10)\n",
      "分类数据: (56643, 10)\n",
      "回归数据: (39702, 50)\n",
      "分类数据: (45583, 50)\n"
     ]
    }
   ],
   "source": [
    "print(\"回归数据:\", X_reg_cleaned.shape)\n",
    "print(\"分类数据:\", X_cls_cleaned.shape)\n",
    "print(\"回归数据:\", X_reg_cleaned_50.shape)\n",
    "print(\"分类数据:\", X_cls_cleaned_50.shape)"
   ]
  },
  {
   "cell_type": "code",
   "execution_count": 26,
   "id": "ed5e9c9f",
   "metadata": {},
   "outputs": [],
   "source": [
    "# 5. LDA（用于分类数据）\n",
    "n_classes = len(np.unique(y_cls))\n",
    "lda = LinearDiscriminantAnalysis(n_components=min(n_classes - 1, X_cls_scaled.shape[1] - 1))\n",
    "X_lda = lda.fit_transform(X_cls_scaled, y_cls)"
   ]
  },
  {
   "cell_type": "code",
   "execution_count": 27,
   "id": "885556b4",
   "metadata": {},
   "outputs": [],
   "source": [
    "# === 保存处理结果 ===\n",
    "np.savez('features_rolling/pca_features.npz',\n",
    "         X_pca=X_pca,\n",
    "         y_reg=y_reg)\n",
    "\n",
    "np.savez('features_rolling/select10best_regression_features.npz',\n",
    "         X_selected_reg=X_selected_reg,\n",
    "         y_reg=y_reg)\n",
    "\n",
    "np.savez('features_rolling/select10best_classification_features.npz',\n",
    "         X_selected_cls=X_selected_cls,\n",
    "         y_cls=y_cls)\n",
    "\n",
    "np.savez('features_rolling/select50best_regression_features.npz',\n",
    "         X_selected_reg_50=X_selected_reg_50,\n",
    "         y_reg=y_reg)\n",
    "\n",
    "np.savez('features_rolling/select50best_classification_features.npz',\n",
    "         X_selected_cls_50=X_selected_cls_50,\n",
    "         y_cls=y_cls)\n",
    "\n",
    "np.savez('features_rolling/select10best_cleaned_regression_features.npz',\n",
    "         X_reg_cleaned=X_reg_cleaned,\n",
    "         y_reg=y_reg_cleaned)\n",
    "\n",
    "np.savez('features_rolling/select10best_cleaned_classification_features.npz',\n",
    "         X_cls_cleaned=X_cls_cleaned,\n",
    "         y_cls=y_cls_cleaned)\n",
    "\n",
    "np.savez('features_rolling/lda_features.npz',\n",
    "         X_lda=X_lda,\n",
    "         y_cls=y_cls)\n",
    "\n"
   ]
  },
  {
   "cell_type": "code",
   "execution_count": 28,
   "id": "80e5a254",
   "metadata": {},
   "outputs": [
    {
     "name": "stdout",
     "output_type": "stream",
     "text": [
      "PCA 降维后数据维度: (72054, 20)\n",
      "SelectKBest-回归特征维度: (72054, 10)\n",
      "SelectKBest-分类特征维度: (72370, 10)\n",
      "SelectKBest_清洗-回归特征维度: (58938, 10)\n",
      "SelectKBest_清洗-分类特征维度: (56643, 10)\n",
      "SelectKBest_50-回归特征维度: (72054, 50)\n",
      "SelectKBest_50-分类特征维度: (72370, 50)\n",
      "LDA 降维后特征维度: (72370, 3)\n"
     ]
    }
   ],
   "source": [
    "# 输出维度信息\n",
    "print(\"PCA 降维后数据维度:\", X_pca.shape)\n",
    "print(\"SelectKBest-回归特征维度:\", X_selected_reg.shape)\n",
    "print(\"SelectKBest-分类特征维度:\", X_selected_cls.shape)\n",
    "print(\"SelectKBest_清洗-回归特征维度:\", X_reg_cleaned.shape)\n",
    "print(\"SelectKBest_清洗-分类特征维度:\", X_cls_cleaned.shape)\n",
    "print(\"SelectKBest_50-回归特征维度:\", X_selected_reg_50.shape)\n",
    "print(\"SelectKBest_50-分类特征维度:\", X_selected_cls_50.shape)\n",
    "print(\"LDA 降维后特征维度:\", X_lda.shape)"
   ]
  }
 ],
 "metadata": {
  "kernelspec": {
   "display_name": "ml",
   "language": "python",
   "name": "python3"
  },
  "language_info": {
   "codemirror_mode": {
    "name": "ipython",
    "version": 3
   },
   "file_extension": ".py",
   "mimetype": "text/x-python",
   "name": "python",
   "nbconvert_exporter": "python",
   "pygments_lexer": "ipython3",
   "version": "3.13.2"
  }
 },
 "nbformat": 4,
 "nbformat_minor": 5
}
