{
 "cells": [
  {
   "cell_type": "code",
   "execution_count": 1,
   "id": "33dd5ed0",
   "metadata": {},
   "outputs": [],
   "source": [
    "import os\n",
    "import pandas as pd\n",
    "import numpy as np\n",
    "from sklearn.impute import SimpleImputer\n",
    "from sklearn.preprocessing import StandardScaler\n",
    "import joblib\n"
   ]
  },
  {
   "cell_type": "code",
   "execution_count": 19,
   "id": "d602546a",
   "metadata": {},
   "outputs": [],
   "source": [
    "# 1. 加载并合并数据\n",
    "years = [2015, 2016, 2017, 2018, 2019]\n",
    "data_frames = [pd.read_excel(os.path.join('Dataset', f'{year}.xlsx')) for year in years]\n",
    "data = pd.concat(data_frames, ignore_index=True)\n"
   ]
  },
  {
   "cell_type": "code",
   "execution_count": 20,
   "id": "6f2e50e9",
   "metadata": {},
   "outputs": [
    {
     "name": "stdout",
     "output_type": "stream",
     "text": [
      "(72370, 192)\n"
     ]
    }
   ],
   "source": [
    "print(data.shape)"
   ]
  },
  {
   "cell_type": "code",
   "execution_count": 21,
   "id": "dbe2e348",
   "metadata": {},
   "outputs": [],
   "source": [
    "# 2. 定义特征类型\n",
    "categorical_cols = ['Nationality', 'Country of residence', 'Gender', 'Immigration airport', 'Travel type', \n",
    "                    'Having mileage or not', 'Most desired place', 'Most satisfied place', 'Satisfaction level', \n",
    "                    'Intention to revisit CITY']\n",
    "numerical_cols = ['Age', 'Number of visits to CITY', 'Tour price', 'Airfare', 'Total expenditures', \n",
    "                  'Accommodation expenses', 'Food and drink expenses', 'Transportation expenses in CITY', \n",
    "                  'Entertainment expenses', 'Shopping expenses', 'Other expenditures'] + \\\n",
    "                 [f'Satisfaction level by item {i:02d}' for i in range(1, 12)]\n",
    "binary_cols = [f'Companion_{i}' for i in range(1, 7)] + \\\n",
    "              [f'Accommodation facilities {i}' for i in range(1, 9)] + \\\n",
    "              [f'Transportation {i:02d}' for i in range(1, 18)] + \\\n",
    "              [f'Activity {i:02d}' for i in range(1, 23)] + \\\n",
    "              [f'Destination {i:02d}' for i in range(1, 25)] + \\\n",
    "              [f'Activity_Destination {i:02d}' for i in range(1, 25)] + \\\n",
    "              [f'Trigger {i:02d}' for i in range(1, 30)] + \\\n",
    "              [f'Attractions {i:02d}' for i in range(1, 28)]"
   ]
  },
  {
   "cell_type": "code",
   "execution_count": 22,
   "id": "08d4d845",
   "metadata": {},
   "outputs": [],
   "source": [
    "# 3. 转换为日期格式并按时间排序\n",
    "data['Survey date'] = pd.to_datetime(data['Survey date'], errors='coerce')\n",
    "data = data.sort_values('Survey date').reset_index(drop=True)"
   ]
  },
  {
   "cell_type": "code",
   "execution_count": 23,
   "id": "d49d255f",
   "metadata": {},
   "outputs": [],
   "source": [
    "# 4. 预处理：处理缺失值\n",
    "data[categorical_cols] = SimpleImputer(strategy='most_frequent').fit_transform(data[categorical_cols])\n",
    "data[numerical_cols] = SimpleImputer(strategy='mean').fit_transform(data[numerical_cols])\n",
    "data[binary_cols] = SimpleImputer(strategy='most_frequent').fit_transform(data[binary_cols])"
   ]
  },
  {
   "cell_type": "code",
   "execution_count": 24,
   "id": "b61af84a",
   "metadata": {},
   "outputs": [],
   "source": [
    "# 5. 对类别特征进行独热编码\n",
    "data = pd.get_dummies(data, columns=categorical_cols, drop_first=True)"
   ]
  },
  {
   "cell_type": "code",
   "execution_count": 25,
   "id": "07895936",
   "metadata": {},
   "outputs": [],
   "source": [
    "# 6. 回归训练数据构建\n",
    "reg_data = data.dropna(subset=['Number of nights in CITY'])\n",
    "X_reg = reg_data.drop(['Survey date', 'Number of nights in CITY', 'Purpose of visit to CITY'], axis=1)\n",
    "y_reg = reg_data['Number of nights in CITY']\n",
    "\n",
    "# 7. 分类训练数据构建\n",
    "cls_data = data.dropna(subset=['Purpose of visit to CITY'])\n",
    "X_cls = cls_data.drop(['Survey date', 'Number of nights in CITY', 'Purpose of visit to CITY'], axis=1)\n",
    "y_cls = cls_data['Purpose of visit to CITY']\n"
   ]
  },
  {
   "cell_type": "code",
   "execution_count": 26,
   "id": "c25cab47",
   "metadata": {},
   "outputs": [],
   "source": [
    "#  保存\n",
    "os.makedirs('initial_data', exist_ok=True)\n",
    "np.savez('initial_data/initial_data_rolling.npz',\n",
    "         X_reg_ini=X_reg.to_numpy(dtype=np.float32),\n",
    "         y_reg_ini=y_reg.values,\n",
    "         X_cls_ini=X_cls.to_numpy(dtype=np.float32),\n",
    "         y_cls_ini=y_cls.values)"
   ]
  },
  {
   "cell_type": "code",
   "execution_count": 27,
   "id": "a933c676",
   "metadata": {},
   "outputs": [],
   "source": [
    "# 8. 标准化\n",
    "scaler = StandardScaler()\n",
    "X_reg_scaled = scaler.fit_transform(X_reg)\n",
    "X_cls_scaled = scaler.transform(X_cls)  # 使用相同的scaler"
   ]
  },
  {
   "cell_type": "code",
   "execution_count": 28,
   "id": "be7ea300",
   "metadata": {},
   "outputs": [
    {
     "data": {
      "text/plain": [
       "['processed_data/scaler.pkl']"
      ]
     },
     "execution_count": 28,
     "metadata": {},
     "output_type": "execute_result"
    }
   ],
   "source": [
    "# 9. 保存\n",
    "os.makedirs('processed_data', exist_ok=True)\n",
    "np.savez('processed_data/processed_data_rolling.npz',\n",
    "         X_reg_scaled=X_reg_scaled,\n",
    "         y_reg=y_reg.values,\n",
    "         X_cls_scaled=X_cls_scaled,\n",
    "         y_cls=y_cls.values)\n",
    "joblib.dump(scaler, 'processed_data/scaler.pkl')"
   ]
  },
  {
   "cell_type": "code",
   "execution_count": 29,
   "id": "aaeb5ed3",
   "metadata": {},
   "outputs": [
    {
     "name": "stdout",
     "output_type": "stream",
     "text": [
      "回归数据: (72054, 379)\n",
      "分类数据: (72370, 379)\n"
     ]
    }
   ],
   "source": [
    "print(\"回归数据:\", X_reg_scaled.shape)\n",
    "print(\"分类数据:\", X_cls_scaled.shape)"
   ]
  }
 ],
 "metadata": {
  "kernelspec": {
   "display_name": "ml",
   "language": "python",
   "name": "python3"
  },
  "language_info": {
   "codemirror_mode": {
    "name": "ipython",
    "version": 3
   },
   "file_extension": ".py",
   "mimetype": "text/x-python",
   "name": "python",
   "nbconvert_exporter": "python",
   "pygments_lexer": "ipython3",
   "version": "3.13.2"
  }
 },
 "nbformat": 4,
 "nbformat_minor": 5
}
